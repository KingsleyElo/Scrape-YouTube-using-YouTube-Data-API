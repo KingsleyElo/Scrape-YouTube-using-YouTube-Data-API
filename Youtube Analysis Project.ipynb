{
 "cells": [
  {
   "cell_type": "code",
   "execution_count": 276,
   "id": "ff110b85",
   "metadata": {},
   "outputs": [],
   "source": [
    "# Import necessary libraries\n",
    "from googleapiclient.discovery import build\n",
    "import pandas as pd\n",
    "import seaborn as sns"
   ]
  },
  {
   "cell_type": "code",
   "execution_count": 324,
   "id": "a953368b",
   "metadata": {},
   "outputs": [],
   "source": [
    "# create key to access YouTube Data\n",
    "api_key =  #'HIDDEN'\n",
    "#channel_id = 'HIDDEN'  # Bethel Music\n",
    "\n",
    "channel_ids = #['HIDDEN', # Bethel Music\n",
    "              # 'HIDDEN', #Hillsong United\n",
    "               #'HIDDEN', #RedRocks Worship\n",
    "               #'HIDDEN', #Maverick City\n",
    "               #'HIDDEN'  #Jesus Culteure\n",
    "              ]\n",
    "\n",
    "youtube = build('youtube', 'v3', developerKey=api_key)"
   ]
  },
  {
   "cell_type": "markdown",
   "id": "933dcfa3",
   "metadata": {},
   "source": [
    "# Function to get channel statistics"
   ]
  },
  {
   "cell_type": "code",
   "execution_count": 325,
   "id": "537ed6cf",
   "metadata": {},
   "outputs": [],
   "source": [
    "def get_channel_stats(youtube, channel_ids):\n",
    "    all_data = []\n",
    "    \n",
    "    requests = youtube.channels().list(\n",
    "                 part='snippet,contentDetails,statistics',\n",
    "                 id=','.join(channel_ids))\n",
    "    response = requests.execute()\n",
    "    \n",
    "    \n",
    "    for i in range (len(response['items'])):\n",
    "          data = dict(Channel_name = response['items'][i]['snippet']['title'],\n",
    "               Subscribers =  response['items'][i]['statistics']['subscriberCount'],\n",
    "               Views = response['items'][i]['statistics']['viewCount'],\n",
    "               Total_Videos = response['items'][i]['statistics']['videoCount'],\n",
    "               Playlist_id = response['items'][i]['contentDetails']['relatedPlaylists']['uploads'])\n",
    "          all_data.append(data)\n",
    "    return all_data"
   ]
  },
  {
   "cell_type": "code",
   "execution_count": 326,
   "id": "241bec47",
   "metadata": {
    "scrolled": false
   },
   "outputs": [],
   "source": [
    "channel_statistics = get_channel_stats(youtube, channel_ids)"
   ]
  },
  {
   "cell_type": "code",
   "execution_count": 327,
   "id": "48bcc13b",
   "metadata": {},
   "outputs": [],
   "source": [
    "channel_data = pd.DataFrame(channel_statistics)"
   ]
  },
  {
   "cell_type": "code",
   "execution_count": 328,
   "id": "9c9789dd",
   "metadata": {},
   "outputs": [
    {
     "data": {
      "text/html": [
       "<div>\n",
       "<style scoped>\n",
       "    .dataframe tbody tr th:only-of-type {\n",
       "        vertical-align: middle;\n",
       "    }\n",
       "\n",
       "    .dataframe tbody tr th {\n",
       "        vertical-align: top;\n",
       "    }\n",
       "\n",
       "    .dataframe thead th {\n",
       "        text-align: right;\n",
       "    }\n",
       "</style>\n",
       "<table border=\"1\" class=\"dataframe\">\n",
       "  <thead>\n",
       "    <tr style=\"text-align: right;\">\n",
       "      <th></th>\n",
       "      <th>Channel_name</th>\n",
       "      <th>Subscribers</th>\n",
       "      <th>Views</th>\n",
       "      <th>Total_Videos</th>\n",
       "      <th>Playlist_id</th>\n",
       "    </tr>\n",
       "  </thead>\n",
       "  <tbody>\n",
       "    <tr>\n",
       "      <th>0</th>\n",
       "      <td>Maverick City Music - Topic</td>\n",
       "      <td>169000</td>\n",
       "      <td>26902360</td>\n",
       "      <td>193</td>\n",
       "      <td>UUcQaSpIMPptu9RLgqIbviqw</td>\n",
       "    </tr>\n",
       "    <tr>\n",
       "      <th>1</th>\n",
       "      <td>Bethel Music</td>\n",
       "      <td>4110000</td>\n",
       "      <td>2103949746</td>\n",
       "      <td>1348</td>\n",
       "      <td>UUbertc-gMbkkHuSmg0qwnxw</td>\n",
       "    </tr>\n",
       "    <tr>\n",
       "      <th>2</th>\n",
       "      <td>Jesus Culture</td>\n",
       "      <td>1140000</td>\n",
       "      <td>389276173</td>\n",
       "      <td>797</td>\n",
       "      <td>UUlY2pCQLyy9s678tf4dqWLQ</td>\n",
       "    </tr>\n",
       "    <tr>\n",
       "      <th>3</th>\n",
       "      <td>Red Rocks Worship</td>\n",
       "      <td>164000</td>\n",
       "      <td>55739546</td>\n",
       "      <td>140</td>\n",
       "      <td>UUyCcknSQSxyZw9TkCrQLNEg</td>\n",
       "    </tr>\n",
       "    <tr>\n",
       "      <th>4</th>\n",
       "      <td>Hillsong UNITED</td>\n",
       "      <td>4270000</td>\n",
       "      <td>1331022233</td>\n",
       "      <td>463</td>\n",
       "      <td>UUsOoQeBWPnfWBYAwmO795zg</td>\n",
       "    </tr>\n",
       "  </tbody>\n",
       "</table>\n",
       "</div>"
      ],
      "text/plain": [
       "                  Channel_name Subscribers       Views Total_Videos  \\\n",
       "0  Maverick City Music - Topic      169000    26902360          193   \n",
       "1                 Bethel Music     4110000  2103949746         1348   \n",
       "2                Jesus Culture     1140000   389276173          797   \n",
       "3            Red Rocks Worship      164000    55739546          140   \n",
       "4              Hillsong UNITED     4270000  1331022233          463   \n",
       "\n",
       "                Playlist_id  \n",
       "0  UUcQaSpIMPptu9RLgqIbviqw  \n",
       "1  UUbertc-gMbkkHuSmg0qwnxw  \n",
       "2  UUlY2pCQLyy9s678tf4dqWLQ  \n",
       "3  UUyCcknSQSxyZw9TkCrQLNEg  \n",
       "4  UUsOoQeBWPnfWBYAwmO795zg  "
      ]
     },
     "execution_count": 328,
     "metadata": {},
     "output_type": "execute_result"
    }
   ],
   "source": [
    "channel_data"
   ]
  },
  {
   "cell_type": "code",
   "execution_count": 329,
   "id": "0db8f6f2",
   "metadata": {},
   "outputs": [
    {
     "data": {
      "text/plain": [
       "Channel_name    object\n",
       "Subscribers     object\n",
       "Views           object\n",
       "Total_Videos    object\n",
       "Playlist_id     object\n",
       "dtype: object"
      ]
     },
     "execution_count": 329,
     "metadata": {},
     "output_type": "execute_result"
    }
   ],
   "source": [
    "channel_data.dtypes"
   ]
  },
  {
   "cell_type": "code",
   "execution_count": 330,
   "id": "0c49ebef",
   "metadata": {},
   "outputs": [
    {
     "data": {
      "text/plain": [
       "Channel_name    object\n",
       "Subscribers      int64\n",
       "Views            int64\n",
       "Total_Videos     int64\n",
       "Playlist_id     object\n",
       "dtype: object"
      ]
     },
     "execution_count": 330,
     "metadata": {},
     "output_type": "execute_result"
    }
   ],
   "source": [
    "channel_data['Subscribers'] = pd.to_numeric(channel_data['Subscribers'])\n",
    "channel_data['Views'] = pd.to_numeric(channel_data['Views'])\n",
    "channel_data['Total_Videos'] = pd.to_numeric(channel_data['Total_Videos'])\n",
    "channel_data.dtypes"
   ]
  },
  {
   "cell_type": "markdown",
   "id": "e2f056f1",
   "metadata": {},
   "source": [
    "## TOTAL SUBSCRIBERS PER CHANNEL"
   ]
  },
  {
   "cell_type": "code",
   "execution_count": 331,
   "id": "3018183b",
   "metadata": {},
   "outputs": [
    {
     "data": {
      "image/png": "[encoded data removed]",
      "text/plain": [
       "<Figure size 864x576 with 1 Axes>"
      ]
     },
     "metadata": {},
     "output_type": "display_data"
    }
   ],
   "source": [
    "sns.set(rc={'figure.figsize':(12,8)})\n",
    "ax = sns.barplot(x='Channel_name', y='Subscribers', data=channel_data)"
   ]
  },
  {
   "cell_type": "markdown",
   "id": "7c07b66e",
   "metadata": {},
   "source": [
    "## TOTAL VIEWS PER CHANNEL"
   ]
  },
  {
   "cell_type": "code",
   "execution_count": 332,
   "id": "69871ece",
   "metadata": {},
   "outputs": [
    {
     "data": {
      "image/png": "[encoded data removed]",
      "text/plain": [
       "<Figure size 864x576 with 1 Axes>"
      ]
     },
     "metadata": {},
     "output_type": "display_data"
    }
   ],
   "source": [
    "ax = sns.barplot(x='Channel_name', y='Views', data=channel_data)"
   ]
  },
  {
   "cell_type": "markdown",
   "id": "776eaaf8",
   "metadata": {},
   "source": [
    "## TOTAL VIDEOS PER CHANNEL"
   ]
  },
  {
   "cell_type": "code",
   "execution_count": 333,
   "id": "367194d4",
   "metadata": {},
   "outputs": [
    {
     "data": {
      "image/png": "[encoded data removed]",
      "text/plain": [
       "<Figure size 864x576 with 1 Axes>"
      ]
     },
     "metadata": {},
     "output_type": "display_data"
    }
   ],
   "source": [
    "ax = sns.barplot(x='Channel_name', y='Total_Videos', data=channel_data)"
   ]
  },
  {
   "cell_type": "markdown",
   "id": "057062e2",
   "metadata": {},
   "source": [
    "## FUNCTION TO GET VIDEO IDS"
   ]
  },
  {
   "cell_type": "code",
   "execution_count": 334,
   "id": "40a8af96",
   "metadata": {
    "scrolled": true
   },
   "outputs": [
    {
     "data": {
      "text/html": [
       "<div>\n",
       "<style scoped>\n",
       "    .dataframe tbody tr th:only-of-type {\n",
       "        vertical-align: middle;\n",
       "    }\n",
       "\n",
       "    .dataframe tbody tr th {\n",
       "        vertical-align: top;\n",
       "    }\n",
       "\n",
       "    .dataframe thead th {\n",
       "        text-align: right;\n",
       "    }\n",
       "</style>\n",
       "<table border=\"1\" class=\"dataframe\">\n",
       "  <thead>\n",
       "    <tr style=\"text-align: right;\">\n",
       "      <th></th>\n",
       "      <th>Channel_name</th>\n",
       "      <th>Subscribers</th>\n",
       "      <th>Views</th>\n",
       "      <th>Total_Videos</th>\n",
       "      <th>Playlist_id</th>\n",
       "    </tr>\n",
       "  </thead>\n",
       "  <tbody>\n",
       "    <tr>\n",
       "      <th>0</th>\n",
       "      <td>Maverick City Music - Topic</td>\n",
       "      <td>169000</td>\n",
       "      <td>26902360</td>\n",
       "      <td>193</td>\n",
       "      <td>UUcQaSpIMPptu9RLgqIbviqw</td>\n",
       "    </tr>\n",
       "    <tr>\n",
       "      <th>1</th>\n",
       "      <td>Bethel Music</td>\n",
       "      <td>4110000</td>\n",
       "      <td>2103949746</td>\n",
       "      <td>1348</td>\n",
       "      <td>UUbertc-gMbkkHuSmg0qwnxw</td>\n",
       "    </tr>\n",
       "    <tr>\n",
       "      <th>2</th>\n",
       "      <td>Jesus Culture</td>\n",
       "      <td>1140000</td>\n",
       "      <td>389276173</td>\n",
       "      <td>797</td>\n",
       "      <td>UUlY2pCQLyy9s678tf4dqWLQ</td>\n",
       "    </tr>\n",
       "    <tr>\n",
       "      <th>3</th>\n",
       "      <td>Red Rocks Worship</td>\n",
       "      <td>164000</td>\n",
       "      <td>55739546</td>\n",
       "      <td>140</td>\n",
       "      <td>UUyCcknSQSxyZw9TkCrQLNEg</td>\n",
       "    </tr>\n",
       "    <tr>\n",
       "      <th>4</th>\n",
       "      <td>Hillsong UNITED</td>\n",
       "      <td>4270000</td>\n",
       "      <td>1331022233</td>\n",
       "      <td>463</td>\n",
       "      <td>UUsOoQeBWPnfWBYAwmO795zg</td>\n",
       "    </tr>\n",
       "  </tbody>\n",
       "</table>\n",
       "</div>"
      ],
      "text/plain": [
       "                  Channel_name  Subscribers       Views  Total_Videos  \\\n",
       "0  Maverick City Music - Topic       169000    26902360           193   \n",
       "1                 Bethel Music      4110000  2103949746          1348   \n",
       "2                Jesus Culture      1140000   389276173           797   \n",
       "3            Red Rocks Worship       164000    55739546           140   \n",
       "4              Hillsong UNITED      4270000  1331022233           463   \n",
       "\n",
       "                Playlist_id  \n",
       "0  UUcQaSpIMPptu9RLgqIbviqw  \n",
       "1  UUbertc-gMbkkHuSmg0qwnxw  \n",
       "2  UUlY2pCQLyy9s678tf4dqWLQ  \n",
       "3  UUyCcknSQSxyZw9TkCrQLNEg  \n",
       "4  UUsOoQeBWPnfWBYAwmO795zg  "
      ]
     },
     "execution_count": 334,
     "metadata": {},
     "output_type": "execute_result"
    }
   ],
   "source": [
    "channel_data"
   ]
  },
  {
   "cell_type": "code",
   "execution_count": 335,
   "id": "0f8e4916",
   "metadata": {},
   "outputs": [],
   "source": [
    "playlist_id = channel_data.loc[channel_data['Channel_name']=='Bethel Music', 'Playlist_id'].iloc[0]"
   ]
  },
  {
   "cell_type": "code",
   "execution_count": 336,
   "id": "93b00e2f",
   "metadata": {},
   "outputs": [
    {
     "data": {
      "text/plain": [
       "'UUbertc-gMbkkHuSmg0qwnxw'"
      ]
     },
     "execution_count": 336,
     "metadata": {},
     "output_type": "execute_result"
    }
   ],
   "source": [
    "playlist_id"
   ]
  },
  {
   "cell_type": "code",
   "execution_count": 337,
   "id": "e0af4eb2",
   "metadata": {},
   "outputs": [],
   "source": [
    "def get_video_ids(youtube, playlist_id):\n",
    "    request = youtube.playlistItems().list(\n",
    "                 part='contentDetails',\n",
    "                playlistId=playlist_id,\n",
    "                maxResults=50)\n",
    "    response = request.execute()\n",
    "    video_ids = []\n",
    "    \n",
    "    for i in range(len(response['items'])):\n",
    "        video_ids.append(response['items'][i]['contentDetails']['videoId'])\n",
    "    next_page_token = response.get('nextPageToken')\n",
    "    more_pages = True\n",
    "    \n",
    "    while more_pages:\n",
    "        if next_page_token is None:\n",
    "            more_pages = False\n",
    "        else:\n",
    "            request = youtube.playlistItems().list(\n",
    "                        part='contentDetails',\n",
    "                        playlistId=playlist_id,\n",
    "                        maxResults=50,\n",
    "                        pageToken = next_page_token)\n",
    "            response = request.execute()\n",
    "            for i in range(len(response['items'])):\n",
    "                video_ids.append(response['items'][i]['contentDetails']['videoId'])\n",
    "            next_page_token = response.get('nextPageToken')\n",
    "    return video_ids"
   ]
  },
  {
   "cell_type": "code",
   "execution_count": null,
   "id": "3b0339f8",
   "metadata": {},
   "outputs": [],
   "source": [
    "get_video_ids(youtube, playlist_id)"
   ]
  },
  {
   "cell_type": "code",
   "execution_count": null,
   "id": "18249bec",
   "metadata": {
    "scrolled": false
   },
   "outputs": [],
   "source": [
    "video_ids"
   ]
  },
  {
   "cell_type": "markdown",
   "id": "916764c0",
   "metadata": {},
   "source": [
    "## FUNCTION TO GET VIDEO DETAILS"
   ]
  },
  {
   "cell_type": "code",
   "execution_count": 345,
   "id": "784744f0",
   "metadata": {},
   "outputs": [],
   "source": [
    "def get_video_details(youtube, video_ids):\n",
    "    all_video_stats = []\n",
    "    for i in range(0, len(video_ids), 50):\n",
    "        request = youtube.videos().list(\n",
    "                     part='snippet, statistics',\n",
    "                     id=','.join(video_ids[i:i+50]))\n",
    "        response = request.execute()\n",
    "     \n",
    "        for video in response['items']:\n",
    "            video_stats = dict(Title = video['snippet']['title'],\n",
    "                               Published_Date=video['snippet']['publishedAt'],\n",
    "                               Views=video['statistics']['viewCount'],\n",
    "                               Favourite=video['statistics']['favoriteCount'])\n",
    "#                               Comment=video['statistics']['commentCount'])\n",
    "            all_video_stats.append(video_stats)\n",
    "    return all_video_stats"
   ]
  },
  {
   "cell_type": "code",
   "execution_count": 346,
   "id": "1066e4bb",
   "metadata": {
    "scrolled": false
   },
   "outputs": [],
   "source": [
    "video_details = get_video_details(youtube, video_ids)"
   ]
  },
  {
   "cell_type": "code",
   "execution_count": 347,
   "id": "6030a974",
   "metadata": {
    "scrolled": false
   },
   "outputs": [
    {
     "data": {
      "text/html": [
       "<div>\n",
       "<style scoped>\n",
       "    .dataframe tbody tr th:only-of-type {\n",
       "        vertical-align: middle;\n",
       "    }\n",
       "\n",
       "    .dataframe tbody tr th {\n",
       "        vertical-align: top;\n",
       "    }\n",
       "\n",
       "    .dataframe thead th {\n",
       "        text-align: right;\n",
       "    }\n",
       "</style>\n",
       "<table border=\"1\" class=\"dataframe\">\n",
       "  <thead>\n",
       "    <tr style=\"text-align: right;\">\n",
       "      <th></th>\n",
       "      <th>Title</th>\n",
       "      <th>Published_Date</th>\n",
       "      <th>Views</th>\n",
       "      <th>Favourite</th>\n",
       "    </tr>\n",
       "  </thead>\n",
       "  <tbody>\n",
       "    <tr>\n",
       "      <th>0</th>\n",
       "      <td>Sound Mind - Melissa Helser | Moment</td>\n",
       "      <td>2022-05-24T20:24:45Z</td>\n",
       "      <td>0</td>\n",
       "      <td>0</td>\n",
       "    </tr>\n",
       "    <tr>\n",
       "      <th>1</th>\n",
       "      <td>Build Your Church - Naomi Raine | Moment</td>\n",
       "      <td>2022-05-06T13:00:13Z</td>\n",
       "      <td>67812</td>\n",
       "      <td>0</td>\n",
       "    </tr>\n",
       "    <tr>\n",
       "      <th>2</th>\n",
       "      <td>Homecoming | The Live Recording</td>\n",
       "      <td>2022-04-29T01:00:09Z</td>\n",
       "      <td>506175</td>\n",
       "      <td>0</td>\n",
       "    </tr>\n",
       "    <tr>\n",
       "      <th>3</th>\n",
       "      <td>With Everything - Bethany Wohrle | Moment</td>\n",
       "      <td>2022-04-21T16:07:06Z</td>\n",
       "      <td>108738</td>\n",
       "      <td>0</td>\n",
       "    </tr>\n",
       "    <tr>\n",
       "      <th>4</th>\n",
       "      <td>About The Album The Field - Kristene DiMarco</td>\n",
       "      <td>2022-04-14T13:00:19Z</td>\n",
       "      <td>16549</td>\n",
       "      <td>0</td>\n",
       "    </tr>\n",
       "    <tr>\n",
       "      <th>...</th>\n",
       "      <td>...</td>\n",
       "      <td>...</td>\n",
       "      <td>...</td>\n",
       "      <td>...</td>\n",
       "    </tr>\n",
       "    <tr>\n",
       "      <th>1343</th>\n",
       "      <td>How to play \"One Thing Remains\"</td>\n",
       "      <td>2012-02-03T00:47:57Z</td>\n",
       "      <td>50942</td>\n",
       "      <td>0</td>\n",
       "    </tr>\n",
       "    <tr>\n",
       "      <th>1344</th>\n",
       "      <td>How to play \"One Thing Remains\" (The Loft Sess...</td>\n",
       "      <td>2012-02-03T00:43:02Z</td>\n",
       "      <td>65808</td>\n",
       "      <td>0</td>\n",
       "    </tr>\n",
       "    <tr>\n",
       "      <th>1345</th>\n",
       "      <td>The Loft Sessions (Behind the Scenes)</td>\n",
       "      <td>2012-01-25T21:56:52Z</td>\n",
       "      <td>88838</td>\n",
       "      <td>0</td>\n",
       "    </tr>\n",
       "    <tr>\n",
       "      <th>1346</th>\n",
       "      <td>Bethel Live Rehearsals</td>\n",
       "      <td>2012-01-10T06:45:45Z</td>\n",
       "      <td>12198</td>\n",
       "      <td>0</td>\n",
       "    </tr>\n",
       "    <tr>\n",
       "      <th>1347</th>\n",
       "      <td>Bethel Music 'The Loft Sessions'  (Trailer)</td>\n",
       "      <td>2011-11-22T02:18:10Z</td>\n",
       "      <td>62477</td>\n",
       "      <td>0</td>\n",
       "    </tr>\n",
       "  </tbody>\n",
       "</table>\n",
       "<p>1348 rows × 4 columns</p>\n",
       "</div>"
      ],
      "text/plain": [
       "                                                  Title        Published_Date  \\\n",
       "0                  Sound Mind - Melissa Helser | Moment  2022-05-24T20:24:45Z   \n",
       "1              Build Your Church - Naomi Raine | Moment  2022-05-06T13:00:13Z   \n",
       "2                       Homecoming | The Live Recording  2022-04-29T01:00:09Z   \n",
       "3             With Everything - Bethany Wohrle | Moment  2022-04-21T16:07:06Z   \n",
       "4          About The Album The Field - Kristene DiMarco  2022-04-14T13:00:19Z   \n",
       "...                                                 ...                   ...   \n",
       "1343                    How to play \"One Thing Remains\"  2012-02-03T00:47:57Z   \n",
       "1344  How to play \"One Thing Remains\" (The Loft Sess...  2012-02-03T00:43:02Z   \n",
       "1345              The Loft Sessions (Behind the Scenes)  2012-01-25T21:56:52Z   \n",
       "1346                             Bethel Live Rehearsals  2012-01-10T06:45:45Z   \n",
       "1347        Bethel Music 'The Loft Sessions'  (Trailer)  2011-11-22T02:18:10Z   \n",
       "\n",
       "       Views Favourite  \n",
       "0          0         0  \n",
       "1      67812         0  \n",
       "2     506175         0  \n",
       "3     108738         0  \n",
       "4      16549         0  \n",
       "...      ...       ...  \n",
       "1343   50942         0  \n",
       "1344   65808         0  \n",
       "1345   88838         0  \n",
       "1346   12198         0  \n",
       "1347   62477         0  \n",
       "\n",
       "[1348 rows x 4 columns]"
      ]
     },
     "execution_count": 347,
     "metadata": {},
     "output_type": "execute_result"
    }
   ],
   "source": [
    "video_data = pd.DataFrame(video_details)\n",
    "video_data"
   ]
  },
  {
   "cell_type": "code",
   "execution_count": 348,
   "id": "8bd82e43",
   "metadata": {
    "scrolled": true
   },
   "outputs": [
    {
     "data": {
      "text/html": [
       "<div>\n",
       "<style scoped>\n",
       "    .dataframe tbody tr th:only-of-type {\n",
       "        vertical-align: middle;\n",
       "    }\n",
       "\n",
       "    .dataframe tbody tr th {\n",
       "        vertical-align: top;\n",
       "    }\n",
       "\n",
       "    .dataframe thead th {\n",
       "        text-align: right;\n",
       "    }\n",
       "</style>\n",
       "<table border=\"1\" class=\"dataframe\">\n",
       "  <thead>\n",
       "    <tr style=\"text-align: right;\">\n",
       "      <th></th>\n",
       "      <th>Title</th>\n",
       "      <th>Published_Date</th>\n",
       "      <th>Views</th>\n",
       "      <th>Favourite</th>\n",
       "    </tr>\n",
       "  </thead>\n",
       "  <tbody>\n",
       "    <tr>\n",
       "      <th>0</th>\n",
       "      <td>Sound Mind - Melissa Helser | Moment</td>\n",
       "      <td>2022-05-24</td>\n",
       "      <td>0</td>\n",
       "      <td>0</td>\n",
       "    </tr>\n",
       "    <tr>\n",
       "      <th>1</th>\n",
       "      <td>Build Your Church - Naomi Raine | Moment</td>\n",
       "      <td>2022-05-06</td>\n",
       "      <td>67812</td>\n",
       "      <td>0</td>\n",
       "    </tr>\n",
       "    <tr>\n",
       "      <th>2</th>\n",
       "      <td>Homecoming | The Live Recording</td>\n",
       "      <td>2022-04-29</td>\n",
       "      <td>506175</td>\n",
       "      <td>0</td>\n",
       "    </tr>\n",
       "    <tr>\n",
       "      <th>3</th>\n",
       "      <td>With Everything - Bethany Wohrle | Moment</td>\n",
       "      <td>2022-04-21</td>\n",
       "      <td>108738</td>\n",
       "      <td>0</td>\n",
       "    </tr>\n",
       "    <tr>\n",
       "      <th>4</th>\n",
       "      <td>About The Album The Field - Kristene DiMarco</td>\n",
       "      <td>2022-04-14</td>\n",
       "      <td>16549</td>\n",
       "      <td>0</td>\n",
       "    </tr>\n",
       "    <tr>\n",
       "      <th>...</th>\n",
       "      <td>...</td>\n",
       "      <td>...</td>\n",
       "      <td>...</td>\n",
       "      <td>...</td>\n",
       "    </tr>\n",
       "    <tr>\n",
       "      <th>1343</th>\n",
       "      <td>How to play \"One Thing Remains\"</td>\n",
       "      <td>2012-02-03</td>\n",
       "      <td>50942</td>\n",
       "      <td>0</td>\n",
       "    </tr>\n",
       "    <tr>\n",
       "      <th>1344</th>\n",
       "      <td>How to play \"One Thing Remains\" (The Loft Sess...</td>\n",
       "      <td>2012-02-03</td>\n",
       "      <td>65808</td>\n",
       "      <td>0</td>\n",
       "    </tr>\n",
       "    <tr>\n",
       "      <th>1345</th>\n",
       "      <td>The Loft Sessions (Behind the Scenes)</td>\n",
       "      <td>2012-01-25</td>\n",
       "      <td>88838</td>\n",
       "      <td>0</td>\n",
       "    </tr>\n",
       "    <tr>\n",
       "      <th>1346</th>\n",
       "      <td>Bethel Live Rehearsals</td>\n",
       "      <td>2012-01-10</td>\n",
       "      <td>12198</td>\n",
       "      <td>0</td>\n",
       "    </tr>\n",
       "    <tr>\n",
       "      <th>1347</th>\n",
       "      <td>Bethel Music 'The Loft Sessions'  (Trailer)</td>\n",
       "      <td>2011-11-22</td>\n",
       "      <td>62477</td>\n",
       "      <td>0</td>\n",
       "    </tr>\n",
       "  </tbody>\n",
       "</table>\n",
       "<p>1348 rows × 4 columns</p>\n",
       "</div>"
      ],
      "text/plain": [
       "                                                  Title Published_Date  \\\n",
       "0                  Sound Mind - Melissa Helser | Moment     2022-05-24   \n",
       "1              Build Your Church - Naomi Raine | Moment     2022-05-06   \n",
       "2                       Homecoming | The Live Recording     2022-04-29   \n",
       "3             With Everything - Bethany Wohrle | Moment     2022-04-21   \n",
       "4          About The Album The Field - Kristene DiMarco     2022-04-14   \n",
       "...                                                 ...            ...   \n",
       "1343                    How to play \"One Thing Remains\"     2012-02-03   \n",
       "1344  How to play \"One Thing Remains\" (The Loft Sess...     2012-02-03   \n",
       "1345              The Loft Sessions (Behind the Scenes)     2012-01-25   \n",
       "1346                             Bethel Live Rehearsals     2012-01-10   \n",
       "1347        Bethel Music 'The Loft Sessions'  (Trailer)     2011-11-22   \n",
       "\n",
       "       Views Favourite  \n",
       "0          0         0  \n",
       "1      67812         0  \n",
       "2     506175         0  \n",
       "3     108738         0  \n",
       "4      16549         0  \n",
       "...      ...       ...  \n",
       "1343   50942         0  \n",
       "1344   65808         0  \n",
       "1345   88838         0  \n",
       "1346   12198         0  \n",
       "1347   62477         0  \n",
       "\n",
       "[1348 rows x 4 columns]"
      ]
     },
     "execution_count": 348,
     "metadata": {},
     "output_type": "execute_result"
    }
   ],
   "source": [
    "video_data['Published_Date'] = pd.to_datetime(video_data['Published_Date']).dt.date\n",
    "video_data['Views'] = pd.to_numeric(video_data['Views'])\n",
    "video_data"
   ]
  },
  {
   "cell_type": "code",
   "execution_count": 349,
   "id": "dc869f9e",
   "metadata": {},
   "outputs": [
    {
     "data": {
      "text/html": [
       "<div>\n",
       "<style scoped>\n",
       "    .dataframe tbody tr th:only-of-type {\n",
       "        vertical-align: middle;\n",
       "    }\n",
       "\n",
       "    .dataframe tbody tr th {\n",
       "        vertical-align: top;\n",
       "    }\n",
       "\n",
       "    .dataframe thead th {\n",
       "        text-align: right;\n",
       "    }\n",
       "</style>\n",
       "<table border=\"1\" class=\"dataframe\">\n",
       "  <thead>\n",
       "    <tr style=\"text-align: right;\">\n",
       "      <th></th>\n",
       "      <th>Title</th>\n",
       "      <th>Published_Date</th>\n",
       "      <th>Views</th>\n",
       "      <th>Favourite</th>\n",
       "    </tr>\n",
       "  </thead>\n",
       "  <tbody>\n",
       "    <tr>\n",
       "      <th>666</th>\n",
       "      <td>Reckless Love (Official Lyric Video)</td>\n",
       "      <td>2018-01-20</td>\n",
       "      <td>155084192</td>\n",
       "      <td>0</td>\n",
       "    </tr>\n",
       "    <tr>\n",
       "      <th>1127</th>\n",
       "      <td>No Longer Slaves (Official Lyric Video) - Jona...</td>\n",
       "      <td>2015-01-26</td>\n",
       "      <td>145482430</td>\n",
       "      <td>0</td>\n",
       "    </tr>\n",
       "    <tr>\n",
       "      <th>372</th>\n",
       "      <td>Way Maker - Paul McClure | Moment</td>\n",
       "      <td>2019-09-23</td>\n",
       "      <td>101922721</td>\n",
       "      <td>0</td>\n",
       "    </tr>\n",
       "    <tr>\n",
       "      <th>1227</th>\n",
       "      <td>It Is Well - Kristene DiMarco | You Make Me Brave</td>\n",
       "      <td>2014-04-28</td>\n",
       "      <td>88154672</td>\n",
       "      <td>0</td>\n",
       "    </tr>\n",
       "    <tr>\n",
       "      <th>696</th>\n",
       "      <td>Reckless Love (Live with story) - Cory Asbury ...</td>\n",
       "      <td>2017-11-23</td>\n",
       "      <td>67303854</td>\n",
       "      <td>0</td>\n",
       "    </tr>\n",
       "    <tr>\n",
       "      <th>453</th>\n",
       "      <td>Goodness Of God (LIVE) - Jenn Johnson | VICTORY</td>\n",
       "      <td>2019-01-04</td>\n",
       "      <td>61652714</td>\n",
       "      <td>0</td>\n",
       "    </tr>\n",
       "    <tr>\n",
       "      <th>816</th>\n",
       "      <td>You're Gonna Be Okay (Lyric Video) - Brian &amp; J...</td>\n",
       "      <td>2017-01-27</td>\n",
       "      <td>44420254</td>\n",
       "      <td>0</td>\n",
       "    </tr>\n",
       "    <tr>\n",
       "      <th>454</th>\n",
       "      <td>Raise A Hallelujah (LIVE) - Jonathan and Melis...</td>\n",
       "      <td>2019-01-03</td>\n",
       "      <td>44230887</td>\n",
       "      <td>0</td>\n",
       "    </tr>\n",
       "    <tr>\n",
       "      <th>450</th>\n",
       "      <td>Raise A Hallelujah (Official Lyric Video) - Be...</td>\n",
       "      <td>2019-01-24</td>\n",
       "      <td>36630751</td>\n",
       "      <td>0</td>\n",
       "    </tr>\n",
       "    <tr>\n",
       "      <th>345</th>\n",
       "      <td>Touch of Heaven - David Funk | Worship Night</td>\n",
       "      <td>2019-11-12</td>\n",
       "      <td>33083814</td>\n",
       "      <td>0</td>\n",
       "    </tr>\n",
       "  </tbody>\n",
       "</table>\n",
       "</div>"
      ],
      "text/plain": [
       "                                                  Title Published_Date  \\\n",
       "666                Reckless Love (Official Lyric Video)     2018-01-20   \n",
       "1127  No Longer Slaves (Official Lyric Video) - Jona...     2015-01-26   \n",
       "372                   Way Maker - Paul McClure | Moment     2019-09-23   \n",
       "1227  It Is Well - Kristene DiMarco | You Make Me Brave     2014-04-28   \n",
       "696   Reckless Love (Live with story) - Cory Asbury ...     2017-11-23   \n",
       "453     Goodness Of God (LIVE) - Jenn Johnson | VICTORY     2019-01-04   \n",
       "816   You're Gonna Be Okay (Lyric Video) - Brian & J...     2017-01-27   \n",
       "454   Raise A Hallelujah (LIVE) - Jonathan and Melis...     2019-01-03   \n",
       "450   Raise A Hallelujah (Official Lyric Video) - Be...     2019-01-24   \n",
       "345        Touch of Heaven - David Funk | Worship Night     2019-11-12   \n",
       "\n",
       "          Views Favourite  \n",
       "666   155084192         0  \n",
       "1127  145482430         0  \n",
       "372   101922721         0  \n",
       "1227   88154672         0  \n",
       "696    67303854         0  \n",
       "453    61652714         0  \n",
       "816    44420254         0  \n",
       "454    44230887         0  \n",
       "450    36630751         0  \n",
       "345    33083814         0  "
      ]
     },
     "execution_count": 349,
     "metadata": {},
     "output_type": "execute_result"
    }
   ],
   "source": [
    "Top_10_videos = video_data.sort_values(by='Views', ascending=False).head(10)\n",
    "\n",
    "Top_10_videos"
   ]
  },
  {
   "cell_type": "markdown",
   "id": "a56deabe",
   "metadata": {},
   "source": [
    "## TOP 10 VIDEOS(BETHEL)"
   ]
  },
  {
   "cell_type": "code",
   "execution_count": 350,
   "id": "3a215dbc",
   "metadata": {},
   "outputs": [
    {
     "data": {
      "image/png": "[encoded data removed]",
      "text/plain": [
       "<Figure size 864x576 with 1 Axes>"
      ]
     },
     "metadata": {},
     "output_type": "display_data"
    }
   ],
   "source": [
    "ax1 = sns.barplot(x = 'Views', y = 'Title', data = Top_10_videos)"
   ]
  },
  {
   "cell_type": "code",
   "execution_count": 351,
   "id": "a22fdd4c",
   "metadata": {},
   "outputs": [],
   "source": [
    "video_data['Month'] = pd.to_datetime(video_data['Published_Date']).dt.strftime('%b')"
   ]
  },
  {
   "cell_type": "code",
   "execution_count": 352,
   "id": "8c4d86ab",
   "metadata": {
    "scrolled": true
   },
   "outputs": [
    {
     "data": {
      "text/html": [
       "<div>\n",
       "<style scoped>\n",
       "    .dataframe tbody tr th:only-of-type {\n",
       "        vertical-align: middle;\n",
       "    }\n",
       "\n",
       "    .dataframe tbody tr th {\n",
       "        vertical-align: top;\n",
       "    }\n",
       "\n",
       "    .dataframe thead th {\n",
       "        text-align: right;\n",
       "    }\n",
       "</style>\n",
       "<table border=\"1\" class=\"dataframe\">\n",
       "  <thead>\n",
       "    <tr style=\"text-align: right;\">\n",
       "      <th></th>\n",
       "      <th>Title</th>\n",
       "      <th>Published_Date</th>\n",
       "      <th>Views</th>\n",
       "      <th>Favourite</th>\n",
       "      <th>Month</th>\n",
       "    </tr>\n",
       "  </thead>\n",
       "  <tbody>\n",
       "    <tr>\n",
       "      <th>0</th>\n",
       "      <td>Sound Mind - Melissa Helser | Moment</td>\n",
       "      <td>2022-05-24</td>\n",
       "      <td>0</td>\n",
       "      <td>0</td>\n",
       "      <td>May</td>\n",
       "    </tr>\n",
       "    <tr>\n",
       "      <th>1</th>\n",
       "      <td>Build Your Church - Naomi Raine | Moment</td>\n",
       "      <td>2022-05-06</td>\n",
       "      <td>67812</td>\n",
       "      <td>0</td>\n",
       "      <td>May</td>\n",
       "    </tr>\n",
       "    <tr>\n",
       "      <th>2</th>\n",
       "      <td>Homecoming | The Live Recording</td>\n",
       "      <td>2022-04-29</td>\n",
       "      <td>506175</td>\n",
       "      <td>0</td>\n",
       "      <td>Apr</td>\n",
       "    </tr>\n",
       "    <tr>\n",
       "      <th>3</th>\n",
       "      <td>With Everything - Bethany Wohrle | Moment</td>\n",
       "      <td>2022-04-21</td>\n",
       "      <td>108738</td>\n",
       "      <td>0</td>\n",
       "      <td>Apr</td>\n",
       "    </tr>\n",
       "    <tr>\n",
       "      <th>4</th>\n",
       "      <td>About The Album The Field - Kristene DiMarco</td>\n",
       "      <td>2022-04-14</td>\n",
       "      <td>16549</td>\n",
       "      <td>0</td>\n",
       "      <td>Apr</td>\n",
       "    </tr>\n",
       "    <tr>\n",
       "      <th>...</th>\n",
       "      <td>...</td>\n",
       "      <td>...</td>\n",
       "      <td>...</td>\n",
       "      <td>...</td>\n",
       "      <td>...</td>\n",
       "    </tr>\n",
       "    <tr>\n",
       "      <th>1343</th>\n",
       "      <td>How to play \"One Thing Remains\"</td>\n",
       "      <td>2012-02-03</td>\n",
       "      <td>50942</td>\n",
       "      <td>0</td>\n",
       "      <td>Feb</td>\n",
       "    </tr>\n",
       "    <tr>\n",
       "      <th>1344</th>\n",
       "      <td>How to play \"One Thing Remains\" (The Loft Sess...</td>\n",
       "      <td>2012-02-03</td>\n",
       "      <td>65808</td>\n",
       "      <td>0</td>\n",
       "      <td>Feb</td>\n",
       "    </tr>\n",
       "    <tr>\n",
       "      <th>1345</th>\n",
       "      <td>The Loft Sessions (Behind the Scenes)</td>\n",
       "      <td>2012-01-25</td>\n",
       "      <td>88838</td>\n",
       "      <td>0</td>\n",
       "      <td>Jan</td>\n",
       "    </tr>\n",
       "    <tr>\n",
       "      <th>1346</th>\n",
       "      <td>Bethel Live Rehearsals</td>\n",
       "      <td>2012-01-10</td>\n",
       "      <td>12198</td>\n",
       "      <td>0</td>\n",
       "      <td>Jan</td>\n",
       "    </tr>\n",
       "    <tr>\n",
       "      <th>1347</th>\n",
       "      <td>Bethel Music 'The Loft Sessions'  (Trailer)</td>\n",
       "      <td>2011-11-22</td>\n",
       "      <td>62477</td>\n",
       "      <td>0</td>\n",
       "      <td>Nov</td>\n",
       "    </tr>\n",
       "  </tbody>\n",
       "</table>\n",
       "<p>1348 rows × 5 columns</p>\n",
       "</div>"
      ],
      "text/plain": [
       "                                                  Title Published_Date  \\\n",
       "0                  Sound Mind - Melissa Helser | Moment     2022-05-24   \n",
       "1              Build Your Church - Naomi Raine | Moment     2022-05-06   \n",
       "2                       Homecoming | The Live Recording     2022-04-29   \n",
       "3             With Everything - Bethany Wohrle | Moment     2022-04-21   \n",
       "4          About The Album The Field - Kristene DiMarco     2022-04-14   \n",
       "...                                                 ...            ...   \n",
       "1343                    How to play \"One Thing Remains\"     2012-02-03   \n",
       "1344  How to play \"One Thing Remains\" (The Loft Sess...     2012-02-03   \n",
       "1345              The Loft Sessions (Behind the Scenes)     2012-01-25   \n",
       "1346                             Bethel Live Rehearsals     2012-01-10   \n",
       "1347        Bethel Music 'The Loft Sessions'  (Trailer)     2011-11-22   \n",
       "\n",
       "       Views Favourite Month  \n",
       "0          0         0   May  \n",
       "1      67812         0   May  \n",
       "2     506175         0   Apr  \n",
       "3     108738         0   Apr  \n",
       "4      16549         0   Apr  \n",
       "...      ...       ...   ...  \n",
       "1343   50942         0   Feb  \n",
       "1344   65808         0   Feb  \n",
       "1345   88838         0   Jan  \n",
       "1346   12198         0   Jan  \n",
       "1347   62477         0   Nov  \n",
       "\n",
       "[1348 rows x 5 columns]"
      ]
     },
     "execution_count": 352,
     "metadata": {},
     "output_type": "execute_result"
    }
   ],
   "source": [
    "video_data"
   ]
  },
  {
   "cell_type": "code",
   "execution_count": 353,
   "id": "b56d4016",
   "metadata": {},
   "outputs": [],
   "source": [
    "videos_per_month = video_data.groupby(video_data['Month'], as_index=False).size()"
   ]
  },
  {
   "cell_type": "code",
   "execution_count": 354,
   "id": "997c4b6e",
   "metadata": {},
   "outputs": [
    {
     "data": {
      "text/html": [
       "<div>\n",
       "<style scoped>\n",
       "    .dataframe tbody tr th:only-of-type {\n",
       "        vertical-align: middle;\n",
       "    }\n",
       "\n",
       "    .dataframe tbody tr th {\n",
       "        vertical-align: top;\n",
       "    }\n",
       "\n",
       "    .dataframe thead th {\n",
       "        text-align: right;\n",
       "    }\n",
       "</style>\n",
       "<table border=\"1\" class=\"dataframe\">\n",
       "  <thead>\n",
       "    <tr style=\"text-align: right;\">\n",
       "      <th></th>\n",
       "      <th>Month</th>\n",
       "      <th>size</th>\n",
       "    </tr>\n",
       "  </thead>\n",
       "  <tbody>\n",
       "    <tr>\n",
       "      <th>0</th>\n",
       "      <td>Apr</td>\n",
       "      <td>146</td>\n",
       "    </tr>\n",
       "    <tr>\n",
       "      <th>1</th>\n",
       "      <td>Aug</td>\n",
       "      <td>80</td>\n",
       "    </tr>\n",
       "    <tr>\n",
       "      <th>2</th>\n",
       "      <td>Dec</td>\n",
       "      <td>89</td>\n",
       "    </tr>\n",
       "    <tr>\n",
       "      <th>3</th>\n",
       "      <td>Feb</td>\n",
       "      <td>82</td>\n",
       "    </tr>\n",
       "    <tr>\n",
       "      <th>4</th>\n",
       "      <td>Jan</td>\n",
       "      <td>133</td>\n",
       "    </tr>\n",
       "    <tr>\n",
       "      <th>5</th>\n",
       "      <td>Jul</td>\n",
       "      <td>95</td>\n",
       "    </tr>\n",
       "    <tr>\n",
       "      <th>6</th>\n",
       "      <td>Jun</td>\n",
       "      <td>70</td>\n",
       "    </tr>\n",
       "    <tr>\n",
       "      <th>7</th>\n",
       "      <td>Mar</td>\n",
       "      <td>133</td>\n",
       "    </tr>\n",
       "    <tr>\n",
       "      <th>8</th>\n",
       "      <td>May</td>\n",
       "      <td>91</td>\n",
       "    </tr>\n",
       "    <tr>\n",
       "      <th>9</th>\n",
       "      <td>Nov</td>\n",
       "      <td>157</td>\n",
       "    </tr>\n",
       "    <tr>\n",
       "      <th>10</th>\n",
       "      <td>Oct</td>\n",
       "      <td>120</td>\n",
       "    </tr>\n",
       "    <tr>\n",
       "      <th>11</th>\n",
       "      <td>Sep</td>\n",
       "      <td>152</td>\n",
       "    </tr>\n",
       "  </tbody>\n",
       "</table>\n",
       "</div>"
      ],
      "text/plain": [
       "   Month  size\n",
       "0    Apr   146\n",
       "1    Aug    80\n",
       "2    Dec    89\n",
       "3    Feb    82\n",
       "4    Jan   133\n",
       "5    Jul    95\n",
       "6    Jun    70\n",
       "7    Mar   133\n",
       "8    May    91\n",
       "9    Nov   157\n",
       "10   Oct   120\n",
       "11   Sep   152"
      ]
     },
     "execution_count": 354,
     "metadata": {},
     "output_type": "execute_result"
    }
   ],
   "source": [
    "videos_per_month"
   ]
  },
  {
   "cell_type": "code",
   "execution_count": 355,
   "id": "b92eefc9",
   "metadata": {},
   "outputs": [],
   "source": [
    "sort_order = ['Jan', 'Feb', 'Mar', 'Apr', 'May', 'Jun', 'Jul', 'Aug'\n",
    "               'Sep', 'Oct', 'Nov', 'Dec']"
   ]
  },
  {
   "cell_type": "code",
   "execution_count": 356,
   "id": "d0767c9f",
   "metadata": {},
   "outputs": [],
   "source": [
    "videos_per_month.index = pd.CategoricalIndex(videos_per_month['Month'], categories = sort_order,  ordered = True)"
   ]
  },
  {
   "cell_type": "code",
   "execution_count": 357,
   "id": "bac135c3",
   "metadata": {},
   "outputs": [],
   "source": [
    "videos_per_month = videos_per_month.sort_index()"
   ]
  },
  {
   "cell_type": "markdown",
   "id": "7728b426",
   "metadata": {},
   "source": [
    "## TOTAL VIDEOS PER MONTH(BETHEL)"
   ]
  },
  {
   "cell_type": "code",
   "execution_count": 358,
   "id": "96df3fff",
   "metadata": {},
   "outputs": [
    {
     "data": {
      "image/png": "[encoded data removed]",
      "text/plain": [
       "<Figure size 864x576 with 1 Axes>"
      ]
     },
     "metadata": {},
     "output_type": "display_data"
    }
   ],
   "source": [
    "ax2 = sns.barplot(x='Month', y='size', data=videos_per_month)"
   ]
  },
  {
   "cell_type": "code",
   "execution_count": null,
   "id": "5b7d8686",
   "metadata": {},
   "outputs": [],
   "source": []
  }
 ],
 "metadata": {
  "kernelspec": {
   "display_name": "Python 3 (ipykernel)",
   "language": "python",
   "name": "python3"
  },
  "language_info": {
   "codemirror_mode": {
    "name": "ipython",
    "version": 3
   },
   "file_extension": ".py",
   "mimetype": "text/x-python",
   "name": "python",
   "nbconvert_exporter": "python",
   "pygments_lexer": "ipython3",
   "version": "3.9.12"
  }
 },
 "nbformat": 4,
 "nbformat_minor": 5
}
